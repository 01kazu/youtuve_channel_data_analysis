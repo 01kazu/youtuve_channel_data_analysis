{
 "cells": [
  {
   "cell_type": "markdown",
   "metadata": {},
   "source": [
    "## DATA CLEANING"
   ]
  },
  {
   "cell_type": "code",
   "execution_count": 1,
   "metadata": {},
   "outputs": [],
   "source": [
    "import pandas as pd"
   ]
  },
  {
   "cell_type": "code",
   "execution_count": 4,
   "metadata": {},
   "outputs": [],
   "source": [
    "df = pd.read_csv('datasets/wonderfulyakubu3599.csv', parse_dates=['date_released_utc'])"
   ]
  },
  {
   "cell_type": "code",
   "execution_count": 5,
   "metadata": {},
   "outputs": [
    {
     "data": {
      "text/html": [
       "<div>\n",
       "<style scoped>\n",
       "    .dataframe tbody tr th:only-of-type {\n",
       "        vertical-align: middle;\n",
       "    }\n",
       "\n",
       "    .dataframe tbody tr th {\n",
       "        vertical-align: top;\n",
       "    }\n",
       "\n",
       "    .dataframe thead th {\n",
       "        text-align: right;\n",
       "    }\n",
       "</style>\n",
       "<table border=\"1\" class=\"dataframe\">\n",
       "  <thead>\n",
       "    <tr style=\"text-align: right;\">\n",
       "      <th></th>\n",
       "      <th>video_title</th>\n",
       "      <th>video_duration</th>\n",
       "      <th>date_released_utc</th>\n",
       "      <th>view_count</th>\n",
       "      <th>like_count</th>\n",
       "      <th>comment_count</th>\n",
       "      <th>date_collected_utc</th>\n",
       "    </tr>\n",
       "  </thead>\n",
       "  <tbody>\n",
       "    <tr>\n",
       "      <th>0</th>\n",
       "      <td>THIS EARLY 20s DEY TRY WHINE ME BUT I NO GO PA...</td>\n",
       "      <td>PT22M16S</td>\n",
       "      <td>2024-07-07 11:26:12+00:00</td>\n",
       "      <td>331</td>\n",
       "      <td>21</td>\n",
       "      <td>11</td>\n",
       "      <td>2024-08-14 08:35:30.644954+00:00</td>\n",
       "    </tr>\n",
       "    <tr>\n",
       "      <th>1</th>\n",
       "      <td>THEY DID'NT EVEN MAKE THIS MUCH FOOD AT THE LA...</td>\n",
       "      <td>PT30M58S</td>\n",
       "      <td>2024-06-26 23:26:58+00:00</td>\n",
       "      <td>482</td>\n",
       "      <td>18</td>\n",
       "      <td>15</td>\n",
       "      <td>2024-08-14 08:35:31.133887+00:00</td>\n",
       "    </tr>\n",
       "    <tr>\n",
       "      <th>2</th>\n",
       "      <td>WENT ON A TRIP AND FELL IN LOVE🤭</td>\n",
       "      <td>PT52M25S</td>\n",
       "      <td>2024-06-18 17:00:03+00:00</td>\n",
       "      <td>100</td>\n",
       "      <td>21</td>\n",
       "      <td>7</td>\n",
       "      <td>2024-08-14 08:35:31.655587+00:00</td>\n",
       "    </tr>\n",
       "    <tr>\n",
       "      <th>3</th>\n",
       "      <td>MY BEST FRIEND THINKS I'M AUTHORITATIVE💔</td>\n",
       "      <td>PT52M3S</td>\n",
       "      <td>2024-06-07 09:00:21+00:00</td>\n",
       "      <td>64</td>\n",
       "      <td>16</td>\n",
       "      <td>1</td>\n",
       "      <td>2024-08-14 08:35:32.107558+00:00</td>\n",
       "    </tr>\n",
       "    <tr>\n",
       "      <th>4</th>\n",
       "      <td>JOLLOF RICE RECIPE</td>\n",
       "      <td>PT4M5S</td>\n",
       "      <td>2024-05-27 15:54:17+00:00</td>\n",
       "      <td>629</td>\n",
       "      <td>34</td>\n",
       "      <td>8</td>\n",
       "      <td>2024-08-14 08:35:32.540728+00:00</td>\n",
       "    </tr>\n",
       "  </tbody>\n",
       "</table>\n",
       "</div>"
      ],
      "text/plain": [
       "                                         video_title video_duration  \\\n",
       "0  THIS EARLY 20s DEY TRY WHINE ME BUT I NO GO PA...       PT22M16S   \n",
       "1  THEY DID'NT EVEN MAKE THIS MUCH FOOD AT THE LA...       PT30M58S   \n",
       "2                   WENT ON A TRIP AND FELL IN LOVE🤭       PT52M25S   \n",
       "3           MY BEST FRIEND THINKS I'M AUTHORITATIVE💔        PT52M3S   \n",
       "4                                 JOLLOF RICE RECIPE         PT4M5S   \n",
       "\n",
       "          date_released_utc  view_count  like_count  comment_count  \\\n",
       "0 2024-07-07 11:26:12+00:00         331          21             11   \n",
       "1 2024-06-26 23:26:58+00:00         482          18             15   \n",
       "2 2024-06-18 17:00:03+00:00         100          21              7   \n",
       "3 2024-06-07 09:00:21+00:00          64          16              1   \n",
       "4 2024-05-27 15:54:17+00:00         629          34              8   \n",
       "\n",
       "                 date_collected_utc  \n",
       "0  2024-08-14 08:35:30.644954+00:00  \n",
       "1  2024-08-14 08:35:31.133887+00:00  \n",
       "2  2024-08-14 08:35:31.655587+00:00  \n",
       "3  2024-08-14 08:35:32.107558+00:00  \n",
       "4  2024-08-14 08:35:32.540728+00:00  "
      ]
     },
     "execution_count": 5,
     "metadata": {},
     "output_type": "execute_result"
    }
   ],
   "source": [
    "df.head()"
   ]
  },
  {
   "cell_type": "code",
   "execution_count": 5,
   "metadata": {},
   "outputs": [
    {
     "name": "stdout",
     "output_type": "stream",
     "text": [
      "<class 'pandas.core.frame.DataFrame'>\n",
      "RangeIndex: 28 entries, 0 to 27\n",
      "Data columns (total 6 columns):\n",
      " #   Column          Non-Null Count  Dtype              \n",
      "---  ------          --------------  -----              \n",
      " 0   video_title     28 non-null     object             \n",
      " 1   video_duration  28 non-null     object             \n",
      " 2   date_released   28 non-null     datetime64[ns, UTC]\n",
      " 3   view_count      28 non-null     int64              \n",
      " 4   like_count      28 non-null     int64              \n",
      " 5   comment_count   28 non-null     int64              \n",
      "dtypes: datetime64[ns, UTC](1), int64(3), object(2)\n",
      "memory usage: 1.4+ KB\n"
     ]
    }
   ],
   "source": [
    "df.info()"
   ]
  },
  {
   "cell_type": "code",
   "execution_count": 6,
   "metadata": {},
   "outputs": [
    {
     "name": "stdout",
     "output_type": "stream",
     "text": [
      "--------------------video_title--------------------\n",
      "['THIS EARLY 20s DEY TRY WHINE ME BUT I NO GO PANIC// LIFE IN MY 20s (Ep.9)'\n",
      " \"THEY DID'NT EVEN MAKE THIS MUCH FOOD AT THE LAST SUPPER🤭 Amah Chill!\"\n",
      " 'WENT ON A TRIP AND FELL IN LOVE🤭'\n",
      " \"MY BEST FRIEND THINKS I'M AUTHORITATIVE💔\" 'JOLLOF RICE RECIPE'\n",
      " 'THIS LOVE MAKES ME A HAPPY MU**🤭// UNBOXING MY BIRTHDAY GIFTS//LIFE IN MY 20s (EP.8)'\n",
      " \"BirthDay VLOG// Prepping// LIFE IN MY 20's (Ep. 7)\"\n",
      " \"I ASKED SOME PEOPLE WHO JESUS CHRIST IS TO THEM AND HERE'S WHAT THEY HAD TO SAY🥺\"\n",
      " \"THE DEVIL TRIED BUT JESUS IS THE GREATEST😌// LIFE IN MY 20's (Ep. 6)\"\n",
      " 'The Perfect Base For You Stew and Rice Dishes'\n",
      " 'LIFE IN MY 20s (Ep. 5)// My life as an amazing aunty to my beautiful babies'\n",
      " 'Detailed Nigerian Zobo Recipe// Healthy But Delicious Nigerian Drink'\n",
      " \"LIFE IN MY 20s// It definitely isn't a weekly vlog if it isn't up to a week 😌\"\n",
      " 'Daily Morning Skincare Routine// LIFE IN MY 20s (Ep. 3)🤭'\n",
      " 'A Day (or two) In My Life// LIFE IN MY 20S✨ (Ep. 2)'\n",
      " 'Daily Vlog// Living in my 20s😌'\n",
      " 'A CHRISTMAS VLOG - PT.3// Christmas menu// I feel sick on Christmas Day🤒'\n",
      " 'A CHRISTMAS VLOG - PT. 2 // Gifting friends and acquaintances.'\n",
      " 'A CHRISTMAS VLOG - Pt. 1// Decorating with my family🎄'\n",
      " 'Weekly Vlogs// Getting a GUINNESS WORLD RECORD?// I looked gorgeous so I did a vlog🤭'\n",
      " 'Weekly VLOG// Saying good bye to my sister// Cooking// My week can be all over the place sometimes.'\n",
      " 'LIVING AS A FARM GIRL SERIES (Ep.1)'\n",
      " 'TRAVEL VLOG// Went on a boat ride to Taraba 🤭'\n",
      " 'TRAVEL VLOG  Prep(Part 2)// Shopping + Unboxing'\n",
      " 'TRAVEL PREP VLOG// New hair + Clothing haul + Meet my sister🤭'\n",
      " 'STORY TIME// I did my siblings dirty🤭//getting everything on my TO-DO List done.'\n",
      " 'DAILY VLOG //Market Runs// Prices are just on the rise anyhow📈 😭😭'\n",
      " 'A DAY IN MY LIFE  //Tips on preparing the perfect party jollof rice//']\n",
      "----------------------------------------\n",
      "--------------------video_duration--------------------\n",
      "['PT22M16S' 'PT30M58S' 'PT52M25S' 'PT52M3S' 'PT4M5S' 'PT27M45S' 'PT34M28S'\n",
      " 'PT9M2S' 'PT36M26S' 'PT11M23S' 'PT41M58S' 'PT11M21S' 'PT49M' 'PT27M44S'\n",
      " 'PT14M6S' 'PT12M25S' 'PT20M16S' 'PT33M45S' 'PT28M9S' 'PT24M10S'\n",
      " 'PT46M43S' 'PT33M7S' 'PT23M52S' 'PT18M8S' 'PT32M35S' 'PT27M5S' 'PT13M25S'\n",
      " 'PT9M6S']\n",
      "----------------------------------------\n",
      "--------------------date_released_utc--------------------\n",
      "<DatetimeArray>\n",
      "['2024-07-07 11:26:12+00:00', '2024-06-26 23:26:58+00:00',\n",
      " '2024-06-18 17:00:03+00:00', '2024-06-07 09:00:21+00:00',\n",
      " '2024-05-27 15:54:17+00:00', '2024-05-07 13:51:35+00:00',\n",
      " '2024-04-20 11:32:30+00:00', '2024-04-15 12:52:26+00:00',\n",
      " '2024-03-28 05:11:25+00:00', '2024-03-12 21:52:53+00:00',\n",
      " '2024-02-29 16:27:57+00:00', '2024-02-23 18:05:42+00:00',\n",
      " '2024-02-14 07:49:06+00:00', '2024-02-09 00:01:44+00:00',\n",
      " '2024-02-05 20:49:44+00:00', '2024-01-25 23:02:08+00:00',\n",
      " '2024-01-16 23:41:16+00:00', '2024-01-15 03:52:15+00:00',\n",
      " '2024-01-08 09:14:58+00:00', '2023-12-24 23:15:45+00:00',\n",
      " '2023-12-22 14:50:14+00:00', '2023-12-19 00:17:41+00:00',\n",
      " '2023-12-08 09:09:09+00:00', '2023-11-30 19:02:58+00:00',\n",
      " '2023-11-27 23:00:33+00:00', '2023-11-18 05:01:49+00:00',\n",
      " '2023-11-13 13:05:09+00:00', '2023-10-17 02:12:55+00:00']\n",
      "Length: 28, dtype: datetime64[ns, UTC]\n",
      "----------------------------------------\n",
      "--------------------view_count--------------------\n",
      "[331 482 100  64 629 167 164  94 396  51  65  52 189  87 580 271 123  95\n",
      " 137 158  97 163 184 136 159 113]\n",
      "----------------------------------------\n",
      "--------------------like_count--------------------\n",
      "[21 18 16 34 27 20 31 11 12  7 22 17 19 25  9 28 14]\n",
      "----------------------------------------\n",
      "--------------------comment_count--------------------\n",
      "[11 15  7  1  8  9 17 13 24  5  6  3 10 14 23  4]\n",
      "----------------------------------------\n",
      "--------------------date_collected_utc--------------------\n",
      "['2024-08-14 08:35:30.644954+00:00' '2024-08-14 08:35:31.133887+00:00'\n",
      " '2024-08-14 08:35:31.655587+00:00' '2024-08-14 08:35:32.107558+00:00'\n",
      " '2024-08-14 08:35:32.540728+00:00' '2024-08-14 08:35:33.008896+00:00'\n",
      " '2024-08-14 08:35:33.471240+00:00' '2024-08-14 08:35:33.976803+00:00'\n",
      " '2024-08-14 08:35:34.456900+00:00' '2024-08-14 08:35:34.942993+00:00'\n",
      " '2024-08-14 08:35:35.402986+00:00' '2024-08-14 08:35:35.829669+00:00'\n",
      " '2024-08-14 08:35:36.282630+00:00' '2024-08-14 08:35:36.785210+00:00'\n",
      " '2024-08-14 08:35:37.231112+00:00' '2024-08-14 08:35:37.698965+00:00'\n",
      " '2024-08-14 08:35:38.134956+00:00' '2024-08-14 08:35:38.941528+00:00'\n",
      " '2024-08-14 08:35:39.392375+00:00' '2024-08-14 08:35:39.824392+00:00'\n",
      " '2024-08-14 08:35:40.350548+00:00' '2024-08-14 08:35:40.838767+00:00'\n",
      " '2024-08-14 08:35:41.367470+00:00' '2024-08-14 08:35:41.794903+00:00'\n",
      " '2024-08-14 08:35:42.227936+00:00' '2024-08-14 08:35:42.644848+00:00'\n",
      " '2024-08-14 08:35:43.073941+00:00' '2024-08-14 08:35:43.522073+00:00']\n",
      "----------------------------------------\n"
     ]
    }
   ],
   "source": [
    "for column in df.columns:\n",
    "    print(f'{\"-\"*20}{column}{\"-\"*20}')\n",
    "    print(df[column].unique())\n",
    "    print(f'{\"-\"*20}{\"-\"*20}')"
   ]
  },
  {
   "cell_type": "markdown",
   "metadata": {},
   "source": [
    "There are 28 rows in the dataframe with 6 columns:\n",
    "1. **video_title**: This is the title of the youtube video. There are no missing values.\n",
    "2. **video_duration**: This is the length of the **video_title**. \n",
    "It is in the format 'PT(Time in minutes)M(Time in seconds)S'. Minutes and seconds will be extracted and placed in their different columns. There are no missing values. \n",
    "3. **date_released_utc**: This is the date the video was released on youtube in the UTC timezone. There are no missing values.\n",
    "4. **view_count**: This is the number of views the **video_title** has. There are no missing values.\n",
    "5. **like_count**: This is the number of likes the **video_title** has. There are no missing values.\n",
    "6. **comment_count**:  This is the number of comments the **video_title** has. There are no missing values.\n",
    "7. **date_collected_utc**: This is the date the video was extracted from the website in UTC timezone. There are no missing values."
   ]
  },
  {
   "cell_type": "code",
   "execution_count": 9,
   "metadata": {},
   "outputs": [],
   "source": [
    "def get_digits(string):\n",
    "    char_list = [char for char in string if char.isdigit()]\n",
    "    return ''.join(char_list)"
   ]
  },
  {
   "cell_type": "code",
   "execution_count": 10,
   "metadata": {},
   "outputs": [
    {
     "name": "stdout",
     "output_type": "stream",
     "text": [
      "1\n"
     ]
    }
   ],
   "source": [
    "func = lambda duration: duration.split('H')[0]\n",
    "print(get_digits(func('PT1H30M58S')))"
   ]
  },
  {
   "cell_type": "code",
   "execution_count": 17,
   "metadata": {},
   "outputs": [],
   "source": [
    "df['video_duration_H'] = df['video_duration'].apply(\n",
    "        lambda duration: duration.split('H')[0] if (duration.find('H') > 0)  else '0' \n",
    "        ).apply(get_digits)"
   ]
  },
  {
   "cell_type": "code",
   "execution_count": 13,
   "metadata": {},
   "outputs": [],
   "source": [
    "df['video_duration_M'] = df['video_duration'].apply(\n",
    "        lambda duration: duration.split('M')[0] if (duration.find('M') > 0)  else '0'\n",
    "        ).apply(get_digits)"
   ]
  },
  {
   "cell_type": "code",
   "execution_count": 14,
   "metadata": {},
   "outputs": [],
   "source": [
    "df['video_duration_S'] = df['video_duration'].apply(\n",
    "        lambda duration: duration.split('M')[1]\n",
    "        ).apply(get_digits)"
   ]
  },
  {
   "cell_type": "code",
   "execution_count": 18,
   "metadata": {},
   "outputs": [
    {
     "name": "stdout",
     "output_type": "stream",
     "text": [
      "--------------------video_duration_H--------------------\n",
      "['0']\n",
      "----------------------------------------\n",
      "--------------------video_duration_M--------------------\n",
      "['22' '30' '52' '4' '27' '34' '9' '36' '11' '41' '49' '14' '12' '20' '33'\n",
      " '28' '24' '46' '23' '18' '32' '13']\n",
      "----------------------------------------\n",
      "--------------------video_duration_S--------------------\n",
      "['16' '58' '25' '3' '5' '45' '28' '2' '26' '23' '21' '' '44' '6' '9' '10'\n",
      " '43' '7' '52' '8' '35']\n",
      "----------------------------------------\n"
     ]
    }
   ],
   "source": [
    "for column in ['video_duration_H', 'video_duration_M', 'video_duration_S']:\n",
    "    print(f'{\"-\"*20}{column}{\"-\"*20}')\n",
    "    print(df[column].unique())\n",
    "    print(f'{\"-\"*20}{\"-\"*20}')"
   ]
  },
  {
   "cell_type": "markdown",
   "metadata": {},
   "source": [
    "An empty string can be seen in the **video_duration_s** column. That value will be changed to zero. This shall also be applied to the **video_duration_m**. "
   ]
  },
  {
   "cell_type": "code",
   "execution_count": 11,
   "metadata": {},
   "outputs": [],
   "source": [
    "# fg\n",
    "df = df.replace({'video_duration_H': '', \n",
    "                 'video_duration_M': '', \n",
    "                 'video_duration_S': ''}, '0')"
   ]
  },
  {
   "cell_type": "code",
   "execution_count": 12,
   "metadata": {},
   "outputs": [],
   "source": [
    "# Convert the string columns to int columns\n",
    "df = df.astype({'video_duration_m': int, 'video_duration_s': int})\n"
   ]
  },
  {
   "cell_type": "code",
   "execution_count": 13,
   "metadata": {},
   "outputs": [
    {
     "name": "stdout",
     "output_type": "stream",
     "text": [
      "<class 'pandas.core.frame.DataFrame'>\n",
      "RangeIndex: 28 entries, 0 to 27\n",
      "Data columns (total 8 columns):\n",
      " #   Column            Non-Null Count  Dtype              \n",
      "---  ------            --------------  -----              \n",
      " 0   video_title       28 non-null     object             \n",
      " 1   video_duration    28 non-null     object             \n",
      " 2   date_released     28 non-null     datetime64[ns, UTC]\n",
      " 3   view_count        28 non-null     int64              \n",
      " 4   like_count        28 non-null     int64              \n",
      " 5   comment_count     28 non-null     int64              \n",
      " 6   video_duration_m  28 non-null     int32              \n",
      " 7   video_duration_s  28 non-null     int32              \n",
      "dtypes: datetime64[ns, UTC](1), int32(2), int64(3), object(2)\n",
      "memory usage: 1.7+ KB\n"
     ]
    }
   ],
   "source": [
    "df.info()"
   ]
  },
  {
   "cell_type": "code",
   "execution_count": 14,
   "metadata": {},
   "outputs": [],
   "source": [
    "# Removed the video_duration column\n",
    "df = df.drop(columns=['video_duration'])"
   ]
  },
  {
   "cell_type": "code",
   "execution_count": 19,
   "metadata": {},
   "outputs": [
    {
     "name": "stdout",
     "output_type": "stream",
     "text": [
      "Help on method to_csv in module pandas.core.generic:\n",
      "\n",
      "to_csv(path_or_buf: 'FilePath | WriteBuffer[bytes] | WriteBuffer[str] | None' = None, sep: 'str' = ',', na_rep: 'str' = '', float_format: 'str | Callable | None' = None, columns: 'Sequence[Hashable] | None' = None, header: 'bool_t | list[str]' = True, index: 'bool_t' = True, index_label: 'IndexLabel | None' = None, mode: 'str' = 'w', encoding: 'str | None' = None, compression: 'CompressionOptions' = 'infer', quoting: 'int | None' = None, quotechar: 'str' = '\"', lineterminator: 'str | None' = None, chunksize: 'int | None' = None, date_format: 'str | None' = None, doublequote: 'bool_t' = True, escapechar: 'str | None' = None, decimal: 'str' = '.', errors: 'str' = 'strict', storage_options: 'StorageOptions' = None) -> 'str | None' method of pandas.core.frame.DataFrame instance\n",
      "    Write object to a comma-separated values (csv) file.\n",
      "    \n",
      "    Parameters\n",
      "    ----------\n",
      "    path_or_buf : str, path object, file-like object, or None, default None\n",
      "        String, path object (implementing os.PathLike[str]), or file-like\n",
      "        object implementing a write() function. If None, the result is\n",
      "        returned as a string. If a non-binary file object is passed, it should\n",
      "        be opened with `newline=''`, disabling universal newlines. If a binary\n",
      "        file object is passed, `mode` might need to contain a `'b'`.\n",
      "    \n",
      "        .. versionchanged:: 1.2.0\n",
      "    \n",
      "           Support for binary file objects was introduced.\n",
      "    \n",
      "    sep : str, default ','\n",
      "        String of length 1. Field delimiter for the output file.\n",
      "    na_rep : str, default ''\n",
      "        Missing data representation.\n",
      "    float_format : str, Callable, default None\n",
      "        Format string for floating point numbers. If a Callable is given, it takes\n",
      "        precedence over other numeric formatting parameters, like decimal.\n",
      "    columns : sequence, optional\n",
      "        Columns to write.\n",
      "    header : bool or list of str, default True\n",
      "        Write out the column names. If a list of strings is given it is\n",
      "        assumed to be aliases for the column names.\n",
      "    index : bool, default True\n",
      "        Write row names (index).\n",
      "    index_label : str or sequence, or False, default None\n",
      "        Column label for index column(s) if desired. If None is given, and\n",
      "        `header` and `index` are True, then the index names are used. A\n",
      "        sequence should be given if the object uses MultiIndex. If\n",
      "        False do not print fields for index names. Use index_label=False\n",
      "        for easier importing in R.\n",
      "    mode : str, default 'w'\n",
      "        Python write mode. The available write modes are the same as\n",
      "        :py:func:`open`.\n",
      "    encoding : str, optional\n",
      "        A string representing the encoding to use in the output file,\n",
      "        defaults to 'utf-8'. `encoding` is not supported if `path_or_buf`\n",
      "        is a non-binary file object.\n",
      "    compression : str or dict, default 'infer'\n",
      "        For on-the-fly compression of the output data. If 'infer' and 'path_or_buf' is\n",
      "        path-like, then detect compression from the following extensions: '.gz',\n",
      "        '.bz2', '.zip', '.xz', '.zst', '.tar', '.tar.gz', '.tar.xz' or '.tar.bz2'\n",
      "        (otherwise no compression).\n",
      "        Set to ``None`` for no compression.\n",
      "        Can also be a dict with key ``'method'`` set\n",
      "        to one of {``'zip'``, ``'gzip'``, ``'bz2'``, ``'zstd'``, ``'tar'``} and other\n",
      "        key-value pairs are forwarded to\n",
      "        ``zipfile.ZipFile``, ``gzip.GzipFile``,\n",
      "        ``bz2.BZ2File``, ``zstandard.ZstdCompressor`` or\n",
      "        ``tarfile.TarFile``, respectively.\n",
      "        As an example, the following could be passed for faster compression and to create\n",
      "        a reproducible gzip archive:\n",
      "        ``compression={'method': 'gzip', 'compresslevel': 1, 'mtime': 1}``.\n",
      "    \n",
      "        .. versionadded:: 1.5.0\n",
      "            Added support for `.tar` files.\n",
      "    \n",
      "        .. versionchanged:: 1.0.0\n",
      "    \n",
      "           May now be a dict with key 'method' as compression mode\n",
      "           and other entries as additional compression options if\n",
      "           compression mode is 'zip'.\n",
      "    \n",
      "        .. versionchanged:: 1.1.0\n",
      "    \n",
      "           Passing compression options as keys in dict is\n",
      "           supported for compression modes 'gzip', 'bz2', 'zstd', and 'zip'.\n",
      "    \n",
      "        .. versionchanged:: 1.2.0\n",
      "    \n",
      "            Compression is supported for binary file objects.\n",
      "    \n",
      "        .. versionchanged:: 1.2.0\n",
      "    \n",
      "            Previous versions forwarded dict entries for 'gzip' to\n",
      "            `gzip.open` instead of `gzip.GzipFile` which prevented\n",
      "            setting `mtime`.\n",
      "    \n",
      "    quoting : optional constant from csv module\n",
      "        Defaults to csv.QUOTE_MINIMAL. If you have set a `float_format`\n",
      "        then floats are converted to strings and thus csv.QUOTE_NONNUMERIC\n",
      "        will treat them as non-numeric.\n",
      "    quotechar : str, default '\\\"'\n",
      "        String of length 1. Character used to quote fields.\n",
      "    lineterminator : str, optional\n",
      "        The newline character or character sequence to use in the output\n",
      "        file. Defaults to `os.linesep`, which depends on the OS in which\n",
      "        this method is called ('\\\\n' for linux, '\\\\r\\\\n' for Windows, i.e.).\n",
      "    \n",
      "        .. versionchanged:: 1.5.0\n",
      "    \n",
      "            Previously was line_terminator, changed for consistency with\n",
      "            read_csv and the standard library 'csv' module.\n",
      "    \n",
      "    chunksize : int or None\n",
      "        Rows to write at a time.\n",
      "    date_format : str, default None\n",
      "        Format string for datetime objects.\n",
      "    doublequote : bool, default True\n",
      "        Control quoting of `quotechar` inside a field.\n",
      "    escapechar : str, default None\n",
      "        String of length 1. Character used to escape `sep` and `quotechar`\n",
      "        when appropriate.\n",
      "    decimal : str, default '.'\n",
      "        Character recognized as decimal separator. E.g. use ',' for\n",
      "        European data.\n",
      "    errors : str, default 'strict'\n",
      "        Specifies how encoding and decoding errors are to be handled.\n",
      "        See the errors argument for :func:`open` for a full list\n",
      "        of options.\n",
      "    \n",
      "        .. versionadded:: 1.1.0\n",
      "    \n",
      "    storage_options : dict, optional\n",
      "        Extra options that make sense for a particular storage connection, e.g.\n",
      "        host, port, username, password, etc. For HTTP(S) URLs the key-value pairs\n",
      "        are forwarded to ``urllib.request.Request`` as header options. For other\n",
      "        URLs (e.g. starting with \"s3://\", and \"gcs://\") the key-value pairs are\n",
      "        forwarded to ``fsspec.open``. Please see ``fsspec`` and ``urllib`` for more\n",
      "        details, and for more examples on storage options refer `here\n",
      "        <https://pandas.pydata.org/docs/user_guide/io.html?\n",
      "        highlight=storage_options#reading-writing-remote-files>`_.\n",
      "    \n",
      "        .. versionadded:: 1.2.0\n",
      "    \n",
      "    Returns\n",
      "    -------\n",
      "    None or str\n",
      "        If path_or_buf is None, returns the resulting csv format as a\n",
      "        string. Otherwise returns None.\n",
      "    \n",
      "    See Also\n",
      "    --------\n",
      "    read_csv : Load a CSV file into a DataFrame.\n",
      "    to_excel : Write DataFrame to an Excel file.\n",
      "    \n",
      "    Examples\n",
      "    --------\n",
      "    >>> df = pd.DataFrame({'name': ['Raphael', 'Donatello'],\n",
      "    ...                    'mask': ['red', 'purple'],\n",
      "    ...                    'weapon': ['sai', 'bo staff']})\n",
      "    >>> df.to_csv(index=False)\n",
      "    'name,mask,weapon\\nRaphael,red,sai\\nDonatello,purple,bo staff\\n'\n",
      "    \n",
      "    Create 'out.zip' containing 'out.csv'\n",
      "    \n",
      "    >>> compression_opts = dict(method='zip',\n",
      "    ...                         archive_name='out.csv')  # doctest: +SKIP\n",
      "    >>> df.to_csv('out.zip', index=False,\n",
      "    ...           compression=compression_opts)  # doctest: +SKIP\n",
      "    \n",
      "    To write a csv file to a new folder or nested folder you will first\n",
      "    need to create it using either Pathlib or os:\n",
      "    \n",
      "    >>> from pathlib import Path  # doctest: +SKIP\n",
      "    >>> filepath = Path('folder/subfolder/out.csv')  # doctest: +SKIP\n",
      "    >>> filepath.parent.mkdir(parents=True, exist_ok=True)  # doctest: +SKIP\n",
      "    >>> df.to_csv(filepath)  # doctest: +SKIP\n",
      "    \n",
      "    >>> import os  # doctest: +SKIP\n",
      "    >>> os.makedirs('folder/subfolder', exist_ok=True)  # doctest: +SKIP\n",
      "    >>> df.to_csv('folder/subfolder/out.csv')  # doctest: +SKIP\n",
      "\n",
      "None\n"
     ]
    }
   ],
   "source": [
    "print(help(df.to_csv))"
   ]
  },
  {
   "cell_type": "code",
   "execution_count": 16,
   "metadata": {},
   "outputs": [],
   "source": [
    "df.to_csv('wonderfulyakubu3599_cleaned.csv', index=True)\n",
    "df.read_csv('')\n",
    "# This file stores the data, as well as the data type\n",
    "# df.to_parquet('wonderfulyakubu3599_cleaned.gzip')"
   ]
  },
  {
   "cell_type": "code",
   "execution_count": null,
   "metadata": {},
   "outputs": [],
   "source": [
    "def get_digits(string):\n",
    "    char_list = [char for char in string if char.isdigit()]\n",
    "    return ''.join(char_list)\n",
    "\n",
    "def data_cleaning(csv_file_name):\n",
    "    filename = csv_file_name.replace('.csv', '')\n",
    "    df = pd.read_csv(csv_file_name)\n",
    "    df['video_duration_m'] = df['video_duration'].apply(\n",
    "        lambda duration: duration.split('M')[0]\n",
    "        ).apply(get_digits)\n",
    "    df['video_duration_s'] = df['video_duration'].apply(\n",
    "        lambda duration: duration.split('M')[1]\n",
    "        ).apply(get_digits)\n",
    "    df['video_duration_m'] = df['video_duration_m'].replace('', '0')\n",
    "    df['video_duration_s'] = df['video_duration_s'].replace('', '0')\n",
    "    df = df.astype({'video_duration_m': int, 'video_duration_s': int})\n",
    "    df = df.drop(columns=['video_duration'])\n",
    "    df.to_csv(f'datasets/{filename}_cleaned.csv')\n",
    "    # This file stores the data, as well as the data type\n",
    "    df.to_parquet(f'datasets/{filename}_cleaned.gzip')\n",
    "\n",
    "    \n",
    "\n",
    "    \n",
    "    \n",
    "    "
   ]
  }
 ],
 "metadata": {
  "kernelspec": {
   "display_name": ".venv",
   "language": "python",
   "name": "python3"
  },
  "language_info": {
   "codemirror_mode": {
    "name": "ipython",
    "version": 3
   },
   "file_extension": ".py",
   "mimetype": "text/x-python",
   "name": "python",
   "nbconvert_exporter": "python",
   "pygments_lexer": "ipython3",
   "version": "3.8.10"
  }
 },
 "nbformat": 4,
 "nbformat_minor": 2
}
